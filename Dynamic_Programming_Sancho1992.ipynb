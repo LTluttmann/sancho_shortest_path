{
 "cells": [
  {
   "cell_type": "code",
   "execution_count": 1,
   "metadata": {
    "collapsed": true
   },
   "outputs": [],
   "source": [
    "import numpy as np\n",
    "import pandas as pd\n",
    "from collections import defaultdict"
   ]
  },
  {
   "cell_type": "markdown",
   "metadata": {},
   "source": [
    "Define the graph G"
   ]
  },
  {
   "cell_type": "code",
   "execution_count": 2,
   "metadata": {
    "collapsed": true
   },
   "outputs": [],
   "source": [
    "class Graph:\n",
    "    def __init__(self):\n",
    "        self.nodes = set()\n",
    "        self.edges = list()\n",
    "        self.edges_out = defaultdict(list)\n",
    "        self.edges_in = defaultdict(list)\n",
    "        self.distance = dict()\n",
    "        self.f_dep_t = dict()\n",
    "        self.f_park_t = dict()\n",
    "\n",
    "    def add_node(self, value, feasible_parking_time):\n",
    "        self.nodes.add(value)\n",
    "        self.f_park_t[value] = feasible_parking_time\n",
    "\n",
    "    def add_edge(self, from_node, to_node, distance, feasible_dep_time):\n",
    "        self.edges.append((from_node, to_node))\n",
    "        self.edges_out[from_node].append(to_node)\n",
    "        self.edges_in[to_node].append(from_node)\n",
    "        self.distance[(from_node, to_node)] = distance\n",
    "        self.f_dep_t[(from_node, to_node)] = feasible_dep_time"
   ]
  },
  {
   "cell_type": "code",
   "execution_count": 559,
   "metadata": {},
   "outputs": [
    {
     "ename": "IndexError",
     "evalue": "list index out of range",
     "output_type": "error",
     "traceback": [
      "\u001b[1;31m---------------------------------------------------------------------------\u001b[0m",
      "\u001b[1;31mIndexError\u001b[0m                                Traceback (most recent call last)",
      "\u001b[1;32m<ipython-input-559-06e4a54f9a0c>\u001b[0m in \u001b[0;36m<module>\u001b[1;34m()\u001b[0m\n\u001b[0;32m      3\u001b[0m \u001b[0mparking_times\u001b[0m \u001b[1;33m=\u001b[0m \u001b[1;33m[\u001b[0m\u001b[1;33m[\u001b[0m\u001b[1;36m0\u001b[0m\u001b[1;33m,\u001b[0m \u001b[0mfloat\u001b[0m\u001b[1;33m(\u001b[0m\u001b[1;34m'inf'\u001b[0m\u001b[1;33m)\u001b[0m\u001b[1;33m]\u001b[0m\u001b[1;33m,\u001b[0m \u001b[1;33m[\u001b[0m\u001b[1;36m18\u001b[0m\u001b[1;33m,\u001b[0m\u001b[1;36m30\u001b[0m\u001b[1;33m]\u001b[0m\u001b[1;33m,\u001b[0m \u001b[1;33m[\u001b[0m\u001b[1;36m35\u001b[0m\u001b[1;33m,\u001b[0m \u001b[1;36m45\u001b[0m\u001b[1;33m]\u001b[0m\u001b[1;33m,\u001b[0m \u001b[1;33m[\u001b[0m\u001b[1;36m64\u001b[0m\u001b[1;33m,\u001b[0m\u001b[1;36m75\u001b[0m\u001b[1;33m]\u001b[0m\u001b[1;33m,\u001b[0m \u001b[1;33m[\u001b[0m\u001b[1;36m35\u001b[0m\u001b[1;33m,\u001b[0m\u001b[1;36m50\u001b[0m\u001b[1;33m]\u001b[0m\u001b[1;33m,\u001b[0m \u001b[1;33m[\u001b[0m\u001b[1;36m64\u001b[0m\u001b[1;33m,\u001b[0m \u001b[1;36m75\u001b[0m\u001b[1;33m]\u001b[0m\u001b[1;33m,\u001b[0m \u001b[1;33m[\u001b[0m\u001b[1;36m0\u001b[0m\u001b[1;33m,\u001b[0m \u001b[0mfloat\u001b[0m\u001b[1;33m(\u001b[0m\u001b[1;34m'inf'\u001b[0m\u001b[1;33m)\u001b[0m\u001b[1;33m]\u001b[0m\u001b[1;33m]\u001b[0m\u001b[1;33m\u001b[0m\u001b[0m\n\u001b[0;32m      4\u001b[0m \u001b[1;32mfor\u001b[0m \u001b[0mi\u001b[0m \u001b[1;32min\u001b[0m \u001b[0mrange\u001b[0m\u001b[1;33m(\u001b[0m\u001b[1;36m1\u001b[0m\u001b[1;33m,\u001b[0m \u001b[1;36m9\u001b[0m\u001b[1;33m)\u001b[0m\u001b[1;33m:\u001b[0m\u001b[1;33m\u001b[0m\u001b[0m\n\u001b[1;32m----> 5\u001b[1;33m     \u001b[0mg\u001b[0m\u001b[1;33m.\u001b[0m\u001b[0madd_node\u001b[0m\u001b[1;33m(\u001b[0m\u001b[0mi\u001b[0m\u001b[1;33m,\u001b[0m \u001b[0mparking_times\u001b[0m\u001b[1;33m[\u001b[0m\u001b[0mi\u001b[0m\u001b[1;33m-\u001b[0m\u001b[1;36m1\u001b[0m\u001b[1;33m]\u001b[0m\u001b[1;33m)\u001b[0m\u001b[1;33m\u001b[0m\u001b[0m\n\u001b[0m",
      "\u001b[1;31mIndexError\u001b[0m: list index out of range"
     ]
    }
   ],
   "source": [
    "#Knoten der Beispielinstanz\n",
    "g = Graph()\n",
    "parking_times = [[0, float('inf')], [18,30], [35, 45], [64,75], [35,50], [64, 75], [0, float('inf')]]\n",
    "for i in range(1, 9):\n",
    "    g.add_node(i, parking_times[i-1])"
   ]
  },
  {
   "cell_type": "code",
   "execution_count": 560,
   "metadata": {
    "collapsed": true
   },
   "outputs": [],
   "source": [
    "#Kanten der Beispielinstanz\n",
    "g.add_edge(1, 2, 10, [10, 15])\n",
    "g.add_edge(1, 3, 20, [10, 25])\n",
    "g.add_edge(1, 5, 25, [15, 25])\n",
    "g.add_edge(2, 4, 35, [28, 35])\n",
    "g.add_edge(2, 6, 35, [26, 34])\n",
    "g.add_edge(2, 7, 30, [32, 60])\n",
    "g.add_edge(3, 2, 15, [35, 50])\n",
    "g.add_edge(3, 4, 20, [43, 50])\n",
    "g.add_edge(4, 7, 30, [70, 99])\n",
    "g.add_edge(5, 2, 20, [30, 80])\n",
    "g.add_edge(5, 6, 25, [48, 55])\n",
    "g.add_edge(6, 7, 10, [72, 80])\n",
    "g.add_edge(7, 8, 0, [0, 0])"
   ]
  },
  {
   "cell_type": "code",
   "execution_count": 561,
   "metadata": {},
   "outputs": [
    {
     "name": "stdout",
     "output_type": "stream",
     "text": [
      "[0, inf]\n",
      "[18, 30]\n",
      "[35, 45]\n",
      "[64, 75]\n",
      "[35, 50]\n",
      "[64, 75]\n",
      "[0, inf]\n"
     ]
    }
   ],
   "source": [
    "for i in g.nodes:\n",
    "    print(g.f_park_t[i])"
   ]
  },
  {
   "cell_type": "markdown",
   "metadata": {},
   "source": [
    "Write functions"
   ]
  },
  {
   "cell_type": "markdown",
   "metadata": {},
   "source": [
    "i = 1\n",
    "j = 2\n",
    "fij =0\n",
    "test = check_for_feasibility(i, j, 15)\n",
    "if test is not False: # here we avoid that zero satisfies a false check\n",
    "    print(\"feasible earliest arrival time at node {} at time {} with parking time {}\".format(i, fij, test))"
   ]
  },
  {
   "cell_type": "code",
   "execution_count": 578,
   "metadata": {},
   "outputs": [
    {
     "data": {
      "text/plain": [
       "{(2, 4): 1,\n",
       " (2, 6): 1,\n",
       " (2, 7): 1,\n",
       " (3, 2): 1,\n",
       " (3, 4): 1,\n",
       " (4, 7): 2,\n",
       " (5, 2): 1,\n",
       " (5, 6): 1,\n",
       " (6, 7): 2,\n",
       " (7, 8): 6}"
      ]
     },
     "execution_count": 578,
     "metadata": {},
     "output_type": "execute_result"
    }
   ],
   "source": [
    "opt_is"
   ]
  },
  {
   "cell_type": "code",
   "execution_count": 577,
   "metadata": {},
   "outputs": [
    {
     "data": {
      "text/plain": [
       "[]"
      ]
     },
     "execution_count": 577,
     "metadata": {},
     "output_type": "execute_result"
    }
   ],
   "source": [
    "get_route_for_arc((1,2), optimal_i=opt_is)"
   ]
  },
  {
   "cell_type": "code",
   "execution_count": 576,
   "metadata": {},
   "outputs": [],
   "source": [
    "def get_route_for_arc(arc: tuple, optimal_i: dict):\n",
    "    check_route_for = arc\n",
    "    #route = [check_route_for]\n",
    "    route = list()\n",
    "    i = check_route_for[0]\n",
    "    j = check_route_for[1]\n",
    "    try:\n",
    "        while True:\n",
    "            curr_arc = (i,j)\n",
    "            i = optimal_i[curr_arc]\n",
    "            j = curr_arc[0]\n",
    "            route.append((i,j))\n",
    "            if i == 1:\n",
    "                break\n",
    "        return [i for i in reversed(route)] \n",
    "    \n",
    "    except:\n",
    "        return []\n",
    "    "
   ]
  },
  {
   "cell_type": "code",
   "execution_count": 565,
   "metadata": {},
   "outputs": [
    {
     "name": "stdout",
     "output_type": "stream",
     "text": [
      "Check feasibility for usage of arc ((1, 2)) for earliest feasible time 0\n",
      "feasible parking times for 1 when moving to 2: [10, 11, 12, 13, 14, 15]\n",
      "1st cond satisfied\n",
      "du you go here bro? Then why return none? : 10\n"
     ]
    },
    {
     "data": {
      "text/plain": [
       "10"
      ]
     },
     "execution_count": 565,
     "metadata": {},
     "output_type": "execute_result"
    }
   ],
   "source": [
    "check_for_feasibility(1,2,0, opt_is, earliest_feasible_arrival_times)"
   ]
  },
  {
   "cell_type": "code",
   "execution_count": 566,
   "metadata": {},
   "outputs": [
    {
     "name": "stdout",
     "output_type": "stream",
     "text": [
      "so lets do the recursion\n",
      "[]\n",
      "MAAAAAAAAAAAAAAN das sollte doch gehen=?!?!?!?!?!?!\n"
     ]
    },
    {
     "data": {
      "text/plain": [
       "inf"
      ]
     },
     "execution_count": 566,
     "metadata": {},
     "output_type": "execute_result"
    }
   ],
   "source": [
    "do_recusion(1, 2, 0, opt_is, earliest_feasible_arrival_times)"
   ]
  },
  {
   "cell_type": "code",
   "execution_count": 567,
   "metadata": {},
   "outputs": [],
   "source": [
    "def do_recusion(i, j, earliest_feasible_at, opt_is, earliest_feasible_arrival_times):\n",
    "    # specify time window for parking\n",
    "    print(\"so lets do the recursion\")\n",
    "    alpha_i = g.f_park_t[i][0]\n",
    "    beta_i = g.f_park_t[i][1]\n",
    "    \n",
    "    # specify time window for traveling the arc\n",
    "    gamma_ij = g.f_dep_t[(i,j)][0]\n",
    "    delta_ij = g.f_dep_t[(i,j)][1]\n",
    "\n",
    "    previous_arcs = get_route_for_arc((i,j), opt_is)\n",
    "    print(previous_arcs)\n",
    "    if len(previous_arcs) == 0:\n",
    "        print(\"MAAAAAAAAAAAAAAN das sollte doch gehen=?!?!?!?!?!?!\")\n",
    "        return float('inf')\n",
    "    else:\n",
    "        # this time is missing on node j in order to be able to park or directly move to k\n",
    "        time_gap = min([alpha_i - earliest_feasible_at, gamma_ij - earliest_feasible_at])\n",
    "        if time_gap < 0:\n",
    "            time_gap = max([alpha_i - earliest_feasible_at, gamma_ij - earliest_feasible_at])\n",
    "        print(\"time_gap\", time_gap)\n",
    "\n",
    "        curr_prev_arc = previous_arcs[-1]\n",
    "        print(curr_prev_arc)\n",
    "        f_i1_i2 = earliest_feasible_arrival_times[curr_prev_arc]\n",
    "        new_p_i = check_for_feasibility(*curr_prev_arc, f_i1_i2, opt_is, earliest_feasible_arrival_times, add_park_time=time_gap)\n",
    "        new_earliest_feasible_at = f_i1_i2 + new_p_i + g.distance[curr_prev_arc]\n",
    "        print(\"new f({}): \".format((i,j)), new_earliest_feasible_at, \"new_p{}: \".format(i), new_p_i)\n",
    "        earliest_feasible_arrival_times[i,j] = new_earliest_feasible_at\n",
    "        parking[curr_prev_arc] = new_p_i\n",
    "        return check_for_feasibility(i,j,new_earliest_feasible_at, opt_is, earliest_feasible_arrival_times)\n",
    "     "
   ]
  },
  {
   "cell_type": "code",
   "execution_count": 568,
   "metadata": {
    "collapsed": true
   },
   "outputs": [],
   "source": [
    "def check_for_feasibility(i, j, earliest_feasible_at, opt_is, earliest_feasible_arrival_times, add_park_time=None):\n",
    "    print(\"Check feasibility for usage of arc ({}) for earliest feasible time {}\".format((i,j), earliest_feasible_at))\n",
    "    if earliest_feasible_at == float('inf'):\n",
    "        print(\"HUHUHUU\")\n",
    "        return False\n",
    "    # specify time window for parking\n",
    "    alpha_i = g.f_park_t[i][0]\n",
    "    beta_i = g.f_park_t[i][1]\n",
    "    \n",
    "    # specify time window for traveling the arc\n",
    "    gamma_ij = g.f_dep_t[(i,j)][0]\n",
    "    delta_ij = g.f_dep_t[(i,j)][1]\n",
    "    \n",
    "    # check first equation:\n",
    "    if alpha_i <= delta_ij:\n",
    "        #pass\n",
    "        max_p_i = min(beta_i - earliest_feasible_at, delta_ij - earliest_feasible_at)\n",
    "        p_i = []\n",
    "        for feas_p_i in range(max_p_i+1):\n",
    "            if (alpha_i <= earliest_feasible_at <= beta_i) and (gamma_ij <= earliest_feasible_at + feas_p_i <= delta_ij):\n",
    "                p_i.append(feas_p_i)\n",
    "\n",
    "        print(\"feasible parking times for {} when moving to {}: {}\".format(i,j,p_i))\n",
    "        if len(p_i) > 0:\n",
    "            print(\"1st cond satisfied\")\n",
    "            if add_park_time:\n",
    "                print(\"want to add additional parking time to node 1: \", add_park_time)\n",
    "                print(\"This sums up to \", p_i[0] + add_park_time)\n",
    "                if p_i[0] + add_park_time < max_p_i:\n",
    "                    return p_i[0] + add_park_time\n",
    "                else: \n",
    "                    print(\"NOOOOOOOOOO, max pi is only: \", max_p_i)\n",
    "                    # So when we move here we set f(2,7) to infinity, but what we really want to do is set\n",
    "                    # f(1,2) to infinit and with this new insight calculate a new f(2,7): How can we proceed here?\n",
    "                    #earliest_feasible_arrival_times[1,2] = float('inf')\n",
    "                    return float('inf')\n",
    "            else:\n",
    "                print(\"du you go here bro? Then why return none? :\", p_i[0])\n",
    "                return p_i[0]\n",
    "        \n",
    "    #max_p_i = min(beta_i - earliest_feasible_at, delta_ij - earliest_feasible_at)\n",
    "    #if (alpha_i <= earliest_feasible_at <= beta_i) and (gamma_ij <= earliest_feasible_at + max_p_i <= delta_ij):\n",
    "    #    return max_p_i\n",
    "    # check second equation\n",
    "    if (beta_i - earliest_feasible_at <= 0) and (gamma_ij <= earliest_feasible_at <= delta_ij):\n",
    "        print(\"2nd cond satisfied\")\n",
    "        p_i = 0\n",
    "        return p_i\n",
    "    # check third equation\n",
    "    elif (earliest_feasible_at < gamma_ij <= alpha_i) or (earliest_feasible_at < alpha_i < gamma_ij < beta_i\n",
    "                                                        ) or earliest_feasible_at < beta_i < gamma_ij:\n",
    "        a =  do_recusion(i, j, earliest_feasible_at, opt_is, earliest_feasible_arrival_times)\n",
    "        print(\"recursion is done, result is: \", a)\n",
    "        return a\n",
    "    \n",
    "    # check fourth equation\n",
    "    elif gamma_ij < earliest_feasible_at < alpha_i <= delta_ij:\n",
    "        print(\"4th cond satisfied\")\n",
    "        p_i = 0\n",
    "        return [p_i]\n",
    "    \n",
    "    # check fifth equation\n",
    "    elif delta_ij < earliest_feasible_at:\n",
    "        print(\"5th cond satisfied\")\n",
    "        return [float('inf')]\n",
    "    \n",
    "    else:\n",
    "        raise\n",
    "        print(Warning(\"Some cases are not considered in feasibility check\"))"
   ]
  },
  {
   "cell_type": "code",
   "execution_count": 569,
   "metadata": {},
   "outputs": [
    {
     "name": "stdout",
     "output_type": "stream",
     "text": [
      "The outer loops current iteration is:  2\n",
      "The following nodes move into 2: [1, 3, 5]\n",
      "The iteration over j is currently at:  1\n",
      "The iteration over j is currently at:  3\n",
      "The following nodes move into 3: [1]\n",
      "f(1, 3) is: 0\n",
      "Check feasibility for usage of arc ((1, 3)) for earliest feasible time 0\n",
      "feasible parking times for 1 when moving to 3: [10, 11, 12, 13, 14, 15, 16, 17, 18, 19, 20, 21, 22, 23, 24, 25]\n",
      "1st cond satisfied\n",
      "du you go here bro? Then why return none? : 10\n",
      "p_1: 10\n",
      "current earliest_feasible_arrival_times: {(1, 2): 0, (1, 3): 0, (1, 5): 0}\n",
      "f_(1, 3); p_1; t_(1, 3):  0 ;  10 ;  20\n",
      "pot_earliest_feasible_arrival_times [30]\n",
      "best i 0\n",
      "The iteration over j is currently at:  5\n",
      "The following nodes move into 5: [1]\n",
      "f(1, 5) is: 0\n",
      "Check feasibility for usage of arc ((1, 5)) for earliest feasible time 0\n",
      "feasible parking times for 1 when moving to 5: [15, 16, 17, 18, 19, 20, 21, 22, 23, 24, 25]\n",
      "1st cond satisfied\n",
      "du you go here bro? Then why return none? : 15\n",
      "p_1: 15\n",
      "current earliest_feasible_arrival_times: {(1, 2): 0, (1, 3): 0, (1, 5): 0, (3, 2): 30}\n",
      "f_(1, 5); p_1; t_(1, 5):  0 ;  15 ;  25\n",
      "pot_earliest_feasible_arrival_times [40]\n",
      "best i 0\n",
      "The outer loops current iteration is:  3\n",
      "The following nodes move into 3: [1]\n",
      "The iteration over j is currently at:  1\n",
      "The outer loops current iteration is:  4\n",
      "The following nodes move into 4: [2, 3]\n",
      "The iteration over j is currently at:  2\n",
      "The following nodes move into 2: [1, 3, 5]\n",
      "f(1, 2) is: 0\n",
      "Check feasibility for usage of arc ((1, 2)) for earliest feasible time 0\n",
      "feasible parking times for 1 when moving to 2: [10, 11, 12, 13, 14, 15]\n",
      "1st cond satisfied\n",
      "du you go here bro? Then why return none? : 10\n",
      "p_1: 10\n",
      "current earliest_feasible_arrival_times: {(1, 2): 0, (1, 3): 0, (1, 5): 0, (3, 2): 30, (5, 2): 40}\n",
      "f_(1, 2); p_1; t_(1, 2):  0 ;  10 ;  10\n",
      "pot_earliest_feasible_arrival_times [20]\n",
      "f(3, 2) is: 30\n",
      "Check feasibility for usage of arc ((3, 2)) for earliest feasible time 30\n",
      "feasible parking times for 3 when moving to 2: []\n",
      "so lets do the recursion\n",
      "[(1, 3)]\n",
      "time_gap 5\n",
      "(1, 3)\n",
      "Check feasibility for usage of arc ((1, 3)) for earliest feasible time 0\n",
      "feasible parking times for 1 when moving to 3: [10, 11, 12, 13, 14, 15, 16, 17, 18, 19, 20, 21, 22, 23, 24, 25]\n",
      "1st cond satisfied\n",
      "want to add additional parking time to node 1:  5\n",
      "This sums up to  15\n",
      "new f((3, 2)):  35 new_p3:  15\n",
      "Check feasibility for usage of arc ((3, 2)) for earliest feasible time 35\n",
      "feasible parking times for 3 when moving to 2: [0, 1, 2, 3, 4, 5, 6, 7, 8, 9, 10]\n",
      "1st cond satisfied\n",
      "du you go here bro? Then why return none? : 0\n",
      "recursion is done, result is:  0\n",
      "p_3: 0\n",
      "current earliest_feasible_arrival_times: {(1, 2): 0, (1, 3): 0, (1, 5): 0, (3, 2): 35, (5, 2): 40}\n",
      "f_(3, 2); p_3; t_(3, 2):  35 ;  0 ;  15\n",
      "pot_earliest_feasible_arrival_times [20, 50]\n",
      "f(5, 2) is: 40\n",
      "Check feasibility for usage of arc ((5, 2)) for earliest feasible time 40\n",
      "feasible parking times for 5 when moving to 2: [0, 1, 2, 3, 4, 5, 6, 7, 8, 9, 10]\n",
      "1st cond satisfied\n",
      "du you go here bro? Then why return none? : 0\n",
      "p_5: 0\n",
      "current earliest_feasible_arrival_times: {(1, 2): 0, (1, 3): 0, (1, 5): 0, (3, 2): 35, (5, 2): 40}\n",
      "f_(5, 2); p_5; t_(5, 2):  40 ;  0 ;  20\n",
      "pot_earliest_feasible_arrival_times [20, 50, 60]\n",
      "best i 0\n",
      "The iteration over j is currently at:  3\n",
      "The following nodes move into 3: [1]\n",
      "f(1, 3) is: 0\n",
      "Check feasibility for usage of arc ((1, 3)) for earliest feasible time 0\n",
      "feasible parking times for 1 when moving to 3: [10, 11, 12, 13, 14, 15, 16, 17, 18, 19, 20, 21, 22, 23, 24, 25]\n",
      "1st cond satisfied\n",
      "du you go here bro? Then why return none? : 10\n",
      "p_1: 10\n",
      "current earliest_feasible_arrival_times: {(1, 2): 0, (1, 3): 0, (1, 5): 0, (3, 2): 35, (5, 2): 40, (2, 4): 20}\n",
      "f_(1, 3); p_1; t_(1, 3):  0 ;  10 ;  20\n",
      "pot_earliest_feasible_arrival_times [30]\n",
      "best i 0\n",
      "The outer loops current iteration is:  5\n",
      "The following nodes move into 5: [1]\n",
      "The iteration over j is currently at:  1\n",
      "The outer loops current iteration is:  6\n",
      "The following nodes move into 6: [2, 5]\n",
      "The iteration over j is currently at:  2\n",
      "The following nodes move into 2: [1, 3, 5]\n",
      "f(1, 2) is: 0\n",
      "Check feasibility for usage of arc ((1, 2)) for earliest feasible time 0\n",
      "feasible parking times for 1 when moving to 2: [10, 11, 12, 13, 14, 15]\n",
      "1st cond satisfied\n",
      "du you go here bro? Then why return none? : 10\n",
      "p_1: 10\n",
      "current earliest_feasible_arrival_times: {(1, 2): 0, (1, 3): 0, (1, 5): 0, (3, 2): 35, (5, 2): 40, (2, 4): 20, (3, 4): 30}\n",
      "f_(1, 2); p_1; t_(1, 2):  0 ;  10 ;  10\n",
      "pot_earliest_feasible_arrival_times [20]\n",
      "f(3, 2) is: 35\n",
      "Check feasibility for usage of arc ((3, 2)) for earliest feasible time 35\n",
      "feasible parking times for 3 when moving to 2: [0, 1, 2, 3, 4, 5, 6, 7, 8, 9, 10]\n",
      "1st cond satisfied\n",
      "du you go here bro? Then why return none? : 0\n",
      "p_3: 0\n",
      "current earliest_feasible_arrival_times: {(1, 2): 0, (1, 3): 0, (1, 5): 0, (3, 2): 35, (5, 2): 40, (2, 4): 20, (3, 4): 30}\n",
      "f_(3, 2); p_3; t_(3, 2):  35 ;  0 ;  15\n",
      "pot_earliest_feasible_arrival_times [20, 50]\n",
      "f(5, 2) is: 40\n",
      "Check feasibility for usage of arc ((5, 2)) for earliest feasible time 40\n",
      "feasible parking times for 5 when moving to 2: [0, 1, 2, 3, 4, 5, 6, 7, 8, 9, 10]\n",
      "1st cond satisfied\n",
      "du you go here bro? Then why return none? : 0\n",
      "p_5: 0\n",
      "current earliest_feasible_arrival_times: {(1, 2): 0, (1, 3): 0, (1, 5): 0, (3, 2): 35, (5, 2): 40, (2, 4): 20, (3, 4): 30}\n",
      "f_(5, 2); p_5; t_(5, 2):  40 ;  0 ;  20\n",
      "pot_earliest_feasible_arrival_times [20, 50, 60]\n",
      "best i 0\n",
      "The iteration over j is currently at:  5\n",
      "The following nodes move into 5: [1]\n",
      "f(1, 5) is: 0\n",
      "Check feasibility for usage of arc ((1, 5)) for earliest feasible time 0\n",
      "feasible parking times for 1 when moving to 5: [15, 16, 17, 18, 19, 20, 21, 22, 23, 24, 25]\n",
      "1st cond satisfied\n",
      "du you go here bro? Then why return none? : 15\n",
      "p_1: 15\n",
      "current earliest_feasible_arrival_times: {(1, 2): 0, (1, 3): 0, (1, 5): 0, (3, 2): 35, (5, 2): 40, (2, 4): 20, (3, 4): 30, (2, 6): 20}\n",
      "f_(1, 5); p_1; t_(1, 5):  0 ;  15 ;  25\n",
      "pot_earliest_feasible_arrival_times [40]\n",
      "best i 0\n",
      "The outer loops current iteration is:  7\n",
      "The following nodes move into 7: [2, 4, 6]\n",
      "The iteration over j is currently at:  2\n",
      "The following nodes move into 2: [1, 3, 5]\n",
      "f(1, 2) is: 0\n",
      "Check feasibility for usage of arc ((1, 2)) for earliest feasible time 0\n",
      "feasible parking times for 1 when moving to 2: [10, 11, 12, 13, 14, 15]\n",
      "1st cond satisfied\n",
      "du you go here bro? Then why return none? : 10\n",
      "p_1: 10\n",
      "current earliest_feasible_arrival_times: {(1, 2): 0, (1, 3): 0, (1, 5): 0, (3, 2): 35, (5, 2): 40, (2, 4): 20, (3, 4): 30, (2, 6): 20, (5, 6): 40}\n",
      "f_(1, 2); p_1; t_(1, 2):  0 ;  10 ;  10\n",
      "pot_earliest_feasible_arrival_times [20]\n",
      "f(3, 2) is: 35\n",
      "Check feasibility for usage of arc ((3, 2)) for earliest feasible time 35\n",
      "feasible parking times for 3 when moving to 2: [0, 1, 2, 3, 4, 5, 6, 7, 8, 9, 10]\n",
      "1st cond satisfied\n",
      "du you go here bro? Then why return none? : 0\n",
      "p_3: 0\n",
      "current earliest_feasible_arrival_times: {(1, 2): 0, (1, 3): 0, (1, 5): 0, (3, 2): 35, (5, 2): 40, (2, 4): 20, (3, 4): 30, (2, 6): 20, (5, 6): 40}\n",
      "f_(3, 2); p_3; t_(3, 2):  35 ;  0 ;  15\n",
      "pot_earliest_feasible_arrival_times [20, 50]\n",
      "f(5, 2) is: 40\n",
      "Check feasibility for usage of arc ((5, 2)) for earliest feasible time 40\n",
      "feasible parking times for 5 when moving to 2: [0, 1, 2, 3, 4, 5, 6, 7, 8, 9, 10]\n",
      "1st cond satisfied\n",
      "du you go here bro? Then why return none? : 0\n",
      "p_5: 0\n",
      "current earliest_feasible_arrival_times: {(1, 2): 0, (1, 3): 0, (1, 5): 0, (3, 2): 35, (5, 2): 40, (2, 4): 20, (3, 4): 30, (2, 6): 20, (5, 6): 40}\n",
      "f_(5, 2); p_5; t_(5, 2):  40 ;  0 ;  20\n",
      "pot_earliest_feasible_arrival_times [20, 50, 60]\n",
      "best i 0\n",
      "The iteration over j is currently at:  4\n",
      "The following nodes move into 4: [2, 3]\n",
      "f(2, 4) is: 20\n",
      "Check feasibility for usage of arc ((2, 4)) for earliest feasible time 20\n",
      "feasible parking times for 2 when moving to 4: [8, 9, 10]\n",
      "1st cond satisfied\n",
      "du you go here bro? Then why return none? : 8\n",
      "p_2: 8\n",
      "current earliest_feasible_arrival_times: {(1, 2): 0, (1, 3): 0, (1, 5): 0, (3, 2): 35, (5, 2): 40, (2, 4): 20, (3, 4): 30, (2, 6): 20, (5, 6): 40, (2, 7): 20}\n",
      "f_(2, 4); p_2; t_(2, 4):  20 ;  8 ;  35\n",
      "pot_earliest_feasible_arrival_times [63]\n",
      "f(3, 4) is: 30\n",
      "Check feasibility for usage of arc ((3, 4)) for earliest feasible time 30\n",
      "feasible parking times for 3 when moving to 4: []\n",
      "so lets do the recursion\n",
      "[(1, 3)]\n",
      "time_gap 5\n",
      "(1, 3)\n",
      "Check feasibility for usage of arc ((1, 3)) for earliest feasible time 0\n",
      "feasible parking times for 1 when moving to 3: [10, 11, 12, 13, 14, 15, 16, 17, 18, 19, 20, 21, 22, 23, 24, 25]\n",
      "1st cond satisfied\n",
      "want to add additional parking time to node 1:  5\n",
      "This sums up to  15\n",
      "new f((3, 4)):  35 new_p3:  15\n",
      "Check feasibility for usage of arc ((3, 4)) for earliest feasible time 35\n",
      "feasible parking times for 3 when moving to 4: [8, 9, 10]\n",
      "1st cond satisfied\n",
      "du you go here bro? Then why return none? : 8\n",
      "recursion is done, result is:  8\n",
      "p_3: 8\n",
      "current earliest_feasible_arrival_times: {(1, 2): 0, (1, 3): 0, (1, 5): 0, (3, 2): 35, (5, 2): 40, (2, 4): 20, (3, 4): 35, (2, 6): 20, (5, 6): 40, (2, 7): 20}\n",
      "f_(3, 4); p_3; t_(3, 4):  35 ;  8 ;  20\n",
      "pot_earliest_feasible_arrival_times [63, 63]\n",
      "best i 0\n",
      "The iteration over j is currently at:  6\n",
      "The following nodes move into 6: [2, 5]\n",
      "f(2, 6) is: 20\n",
      "Check feasibility for usage of arc ((2, 6)) for earliest feasible time 20\n",
      "feasible parking times for 2 when moving to 6: [6, 7, 8, 9, 10]\n",
      "1st cond satisfied\n",
      "du you go here bro? Then why return none? : 6\n",
      "p_2: 6\n",
      "current earliest_feasible_arrival_times: {(1, 2): 0, (1, 3): 0, (1, 5): 0, (3, 2): 35, (5, 2): 40, (2, 4): 20, (3, 4): 35, (2, 6): 20, (5, 6): 40, (2, 7): 20, (4, 7): 63}\n",
      "f_(2, 6); p_2; t_(2, 6):  20 ;  6 ;  35\n",
      "pot_earliest_feasible_arrival_times [61]\n",
      "f(5, 6) is: 40\n",
      "Check feasibility for usage of arc ((5, 6)) for earliest feasible time 40\n",
      "feasible parking times for 5 when moving to 6: [8, 9, 10]\n",
      "1st cond satisfied\n",
      "du you go here bro? Then why return none? : 8\n",
      "p_5: 8\n",
      "current earliest_feasible_arrival_times: {(1, 2): 0, (1, 3): 0, (1, 5): 0, (3, 2): 35, (5, 2): 40, (2, 4): 20, (3, 4): 35, (2, 6): 20, (5, 6): 40, (2, 7): 20, (4, 7): 63}\n",
      "f_(5, 6); p_5; t_(5, 6):  40 ;  8 ;  25\n",
      "pot_earliest_feasible_arrival_times [61, 73]\n",
      "best i 0\n",
      "The outer loops current iteration is:  8\n",
      "The following nodes move into 8: [7]\n",
      "The iteration over j is currently at:  7\n",
      "The following nodes move into 7: [2, 4, 6]\n",
      "f(2, 7) is: 20\n",
      "Check feasibility for usage of arc ((2, 7)) for earliest feasible time 20\n",
      "feasible parking times for 2 when moving to 7: []\n",
      "so lets do the recursion\n",
      "[(1, 2)]\n",
      "time_gap 12\n",
      "(1, 2)\n",
      "Check feasibility for usage of arc ((1, 2)) for earliest feasible time 0\n",
      "feasible parking times for 1 when moving to 2: [10, 11, 12, 13, 14, 15]\n",
      "1st cond satisfied\n",
      "want to add additional parking time to node 1:  12\n",
      "This sums up to  22\n",
      "NOOOOOOOOOO, max pi is only:  15\n",
      "new f((2, 7)):  inf new_p2:  inf\n",
      "Check feasibility for usage of arc ((2, 7)) for earliest feasible time inf\n",
      "HUHUHUU\n",
      "recursion is done, result is:  False\n",
      "p_2: False\n",
      "current earliest_feasible_arrival_times: {(1, 2): 0, (1, 3): 0, (1, 5): 0, (3, 2): 35, (5, 2): 40, (2, 4): 20, (3, 4): 35, (2, 6): 20, (5, 6): 40, (2, 7): inf, (4, 7): 63, (6, 7): 61}\n",
      "pot_earliest_feasible_arrival_times [inf]\n",
      "f(4, 7) is: 63\n",
      "Check feasibility for usage of arc ((4, 7)) for earliest feasible time 63\n",
      "feasible parking times for 4 when moving to 7: []\n",
      "so lets do the recursion\n",
      "[(1, 2), (2, 4)]\n",
      "time_gap 1\n",
      "(2, 4)\n",
      "Check feasibility for usage of arc ((2, 4)) for earliest feasible time 20\n",
      "feasible parking times for 2 when moving to 4: [8, 9, 10]\n",
      "1st cond satisfied\n",
      "want to add additional parking time to node 1:  1\n",
      "This sums up to  9\n",
      "new f((4, 7)):  64 new_p4:  9\n",
      "Check feasibility for usage of arc ((4, 7)) for earliest feasible time 64\n",
      "feasible parking times for 4 when moving to 7: [6, 7, 8, 9, 10, 11]\n",
      "1st cond satisfied\n",
      "du you go here bro? Then why return none? : 6\n",
      "recursion is done, result is:  6\n",
      "p_4: 6\n",
      "current earliest_feasible_arrival_times: {(1, 2): 0, (1, 3): 0, (1, 5): 0, (3, 2): 35, (5, 2): 40, (2, 4): 20, (3, 4): 35, (2, 6): 20, (5, 6): 40, (2, 7): inf, (4, 7): 64, (6, 7): 61}\n",
      "f_(4, 7); p_4; t_(4, 7):  64 ;  6 ;  30\n",
      "pot_earliest_feasible_arrival_times [inf, 100]\n",
      "f(6, 7) is: 61\n",
      "Check feasibility for usage of arc ((6, 7)) for earliest feasible time 61\n",
      "feasible parking times for 6 when moving to 7: []\n",
      "so lets do the recursion\n",
      "[(1, 2), (2, 6)]\n",
      "time_gap 3\n",
      "(2, 6)\n",
      "Check feasibility for usage of arc ((2, 6)) for earliest feasible time 20\n",
      "feasible parking times for 2 when moving to 6: [6, 7, 8, 9, 10]\n",
      "1st cond satisfied\n",
      "want to add additional parking time to node 1:  3\n",
      "This sums up to  9\n",
      "new f((6, 7)):  64 new_p6:  9\n",
      "Check feasibility for usage of arc ((6, 7)) for earliest feasible time 64\n",
      "feasible parking times for 6 when moving to 7: [8, 9, 10, 11]\n",
      "1st cond satisfied\n",
      "du you go here bro? Then why return none? : 8\n",
      "recursion is done, result is:  8\n",
      "p_6: 8\n",
      "current earliest_feasible_arrival_times: {(1, 2): 0, (1, 3): 0, (1, 5): 0, (3, 2): 35, (5, 2): 40, (2, 4): 20, (3, 4): 35, (2, 6): 20, (5, 6): 40, (2, 7): inf, (4, 7): 64, (6, 7): 64}\n",
      "f_(6, 7); p_6; t_(6, 7):  64 ;  8 ;  10\n",
      "pot_earliest_feasible_arrival_times [inf, 100, 82]\n",
      "best i 2\n"
     ]
    }
   ],
   "source": [
    "earliest_feasible_arrival_times = dict()\n",
    "sink = min(g.nodes)\n",
    "terminal = max(g.nodes)\n",
    "opt_is = dict()\n",
    "parking = defaultdict(list)\n",
    "for k in range(sink, terminal+2):\n",
    "    if k == 1:\n",
    "        arcs_from_sink = [jk[1] for jk in g.edges if jk[0] == 1]\n",
    "        for l in arcs_from_sink:\n",
    "            earliest_feasible_arrival_times[k, l] = 0\n",
    "            tour.append((k,l))\n",
    "    else:\n",
    "        print(\"The outer loops current iteration is: \", k)\n",
    "        \n",
    "        arcs_to_k = [jk[0] for jk in g.edges if jk[1] == k]\n",
    "        print(\"The following nodes move into {}: {}\".format(k, arcs_to_k))\n",
    "        for j in arcs_to_k:\n",
    "            print(\"The iteration over j is currently at: \", j)\n",
    "            if j == 1:\n",
    "                continue\n",
    "            pot_earliest_feasible_arrival_times = []\n",
    "            arcs_to_j = [ij[0] for ij in g.edges if ij[1] == j]\n",
    "            print(\"The following nodes move into {}: {}\".format(j, arcs_to_j))\n",
    "            for i in arcs_to_j:\n",
    "                f_ij = earliest_feasible_arrival_times[i,j]\n",
    "                print(\"f({}, {}) is: {}\".format(i, j, f_ij))\n",
    "                p_i = check_for_feasibility(i, j, f_ij, opt_is, earliest_feasible_arrival_times)\n",
    "                f_ij = earliest_feasible_arrival_times[i,j]\n",
    "                print(\"p_{}:\".format(i),p_i)\n",
    "                print(\"current earliest_feasible_arrival_times:\", earliest_feasible_arrival_times)\n",
    "                t_ij = g.distance[i,j]\n",
    "                parking[i,j] = p_i\n",
    "                if p_i is not False and type(p_i) == int:\n",
    "                    print(\"f_{}; p_{}; t_{}: \".format((i,j), i, (i,j)), f_ij, \"; \", p_i, \"; \", t_ij)\n",
    "                    pot_earliest_feasible_arrival_times.append(f_ij + p_i + t_ij)\n",
    "                else:\n",
    "                    pot_earliest_feasible_arrival_times.append(float('inf'))\n",
    "                print(\"pot_earliest_feasible_arrival_times\", pot_earliest_feasible_arrival_times)\n",
    "            earliest_feasible_arrival_times[j,k] = min(pot_earliest_feasible_arrival_times)\n",
    "            print(\"best i\", pot_earliest_feasible_arrival_times.index(min(pot_earliest_feasible_arrival_times)))\n",
    "            opt_is[j,k] = arcs_to_j[pot_earliest_feasible_arrival_times.index(min(pot_earliest_feasible_arrival_times))]\n",
    "        #tour.append((j,k))"
   ]
  },
  {
   "cell_type": "code",
   "execution_count": 570,
   "metadata": {},
   "outputs": [
    {
     "data": {
      "text/plain": [
       "{(1, 2): 0,\n",
       " (1, 3): 0,\n",
       " (1, 5): 0,\n",
       " (2, 4): 20,\n",
       " (2, 6): 20,\n",
       " (2, 7): inf,\n",
       " (3, 2): 35,\n",
       " (3, 4): 35,\n",
       " (4, 7): 64,\n",
       " (5, 2): 40,\n",
       " (5, 6): 40,\n",
       " (6, 7): 64,\n",
       " (7, 8): 82}"
      ]
     },
     "execution_count": 570,
     "metadata": {},
     "output_type": "execute_result"
    }
   ],
   "source": [
    "earliest_feasible_arrival_times"
   ]
  },
  {
   "cell_type": "code",
   "execution_count": 571,
   "metadata": {},
   "outputs": [
    {
     "data": {
      "text/plain": [
       "[(1, 2), (2, 6), (6, 7)]"
      ]
     },
     "execution_count": 571,
     "metadata": {},
     "output_type": "execute_result"
    }
   ],
   "source": [
    "get_route_for_arc((7,8), opt_is)"
   ]
  },
  {
   "cell_type": "code",
   "execution_count": 572,
   "metadata": {},
   "outputs": [
    {
     "data": {
      "text/plain": [
       "defaultdict(list,\n",
       "            {(1, 2): inf,\n",
       "             (1, 3): 15,\n",
       "             (1, 5): 15,\n",
       "             (2, 4): 9,\n",
       "             (2, 6): 9,\n",
       "             (2, 7): False,\n",
       "             (3, 2): 0,\n",
       "             (3, 4): 8,\n",
       "             (4, 7): 6,\n",
       "             (5, 2): 0,\n",
       "             (5, 6): 8,\n",
       "             (6, 7): 8})"
      ]
     },
     "execution_count": 572,
     "metadata": {},
     "output_type": "execute_result"
    }
   ],
   "source": [
    "parking"
   ]
  },
  {
   "cell_type": "code",
   "execution_count": 515,
   "metadata": {},
   "outputs": [
    {
     "name": "stdout",
     "output_type": "stream",
     "text": [
      "Check feasibility for usage of arc ((3, 2)) for earliest feasible time 30\n",
      "feasible parking times for 3 when moving to 2: []\n",
      "so lets do the recursion\n",
      "[(1, 3)]\n",
      "time_gap 5\n",
      "(1, 3)\n",
      "Check feasibility for usage of arc ((1, 3)) for earliest feasible time 0\n",
      "feasible parking times for 1 when moving to 3: [10, 11, 12, 13, 14, 15, 16, 17, 18, 19, 20, 21, 22, 23, 24, 25]\n",
      "1st cond satisfied\n",
      "want to add additional parking time to node 1:  5\n",
      "This sums up to  15\n",
      "new f((3, 2)):  35 new_p3:  15\n",
      "Check feasibility for usage of arc ((3, 2)) for earliest feasible time 35\n",
      "feasible parking times for 3 when moving to 2: [0, 1, 2, 3, 4, 5, 6, 7, 8, 9, 10]\n",
      "1st cond satisfied\n",
      "du you go here bro? Then why return none? : 0\n",
      "recursion is done, result is:  0\n"
     ]
    },
    {
     "data": {
      "text/plain": [
       "0"
      ]
     },
     "execution_count": 515,
     "metadata": {},
     "output_type": "execute_result"
    }
   ],
   "source": [
    "check_for_feasibility(3,2,30,opt_is, earliest_feasible_arrival_times)"
   ]
  },
  {
   "cell_type": "code",
   "execution_count": 516,
   "metadata": {},
   "outputs": [
    {
     "data": {
      "text/plain": [
       "{(1, 2): 0,\n",
       " (1, 3): 0,\n",
       " (1, 5): 0,\n",
       " (2, 4): 20,\n",
       " (2, 6): 20,\n",
       " (2, 7): inf,\n",
       " (3, 2): 35,\n",
       " (3, 4): 35,\n",
       " (4, 7): 64,\n",
       " (5, 2): 40,\n",
       " (5, 6): 40,\n",
       " (6, 7): 64,\n",
       " (7, 8): 82}"
      ]
     },
     "execution_count": 516,
     "metadata": {},
     "output_type": "execute_result"
    }
   ],
   "source": [
    "earliest_feasible_arrival_times"
   ]
  },
  {
   "cell_type": "code",
   "execution_count": 399,
   "metadata": {},
   "outputs": [
    {
     "data": {
      "text/plain": [
       "{(1, 2): 0,\n",
       " (1, 3): 0,\n",
       " (1, 5): 0,\n",
       " (2, 4): 25,\n",
       " (2, 6): 25,\n",
       " (2, 7): 25,\n",
       " (3, 2): 45,\n",
       " (3, 4): 45,\n",
       " (4, 7): 65,\n",
       " (5, 2): 50,\n",
       " (5, 6): 50,\n",
       " (6, 7): 65,\n",
       " (7, 8): 85}"
      ]
     },
     "execution_count": 399,
     "metadata": {},
     "output_type": "execute_result"
    }
   ],
   "source": [
    "earliest_feasible_arrival_times"
   ]
  },
  {
   "cell_type": "code",
   "execution_count": 400,
   "metadata": {},
   "outputs": [
    {
     "data": {
      "text/plain": [
       "[(1, 2), (2, 6), (6, 7)]"
      ]
     },
     "execution_count": 400,
     "metadata": {},
     "output_type": "execute_result"
    }
   ],
   "source": [
    "get_route_for_arc((7,8), opt_is)"
   ]
  },
  {
   "cell_type": "markdown",
   "metadata": {},
   "source": [
    "### old solution"
   ]
  },
  {
   "cell_type": "code",
   "execution_count": 15,
   "metadata": {},
   "outputs": [
    {
     "name": "stdout",
     "output_type": "stream",
     "text": [
      "The outer loops current iteration is:  2\n",
      "The following nodes move into 2: [1, 3, 5]\n",
      "The iteration over j is currently at:  1\n",
      "The iteration over j is currently at:  3\n",
      "The following nodes move into 3: [1]\n",
      "1st cond satisfied\n",
      "The iteration over j is currently at:  5\n",
      "The following nodes move into 5: [1]\n",
      "1st cond satisfied\n",
      "The outer loops current iteration is:  3\n",
      "The following nodes move into 3: [1]\n",
      "The iteration over j is currently at:  1\n",
      "The outer loops current iteration is:  4\n",
      "The following nodes move into 4: [2, 3]\n",
      "The iteration over j is currently at:  2\n",
      "The following nodes move into 2: [1, 3, 5]\n",
      "1st cond satisfied\n",
      "1st cond satisfied\n",
      "2nd cond satisfied\n",
      "The iteration over j is currently at:  3\n",
      "The following nodes move into 3: [1]\n",
      "1st cond satisfied\n",
      "The outer loops current iteration is:  5\n",
      "The following nodes move into 5: [1]\n",
      "The iteration over j is currently at:  1\n",
      "The outer loops current iteration is:  6\n",
      "The following nodes move into 6: [2, 5]\n",
      "The iteration over j is currently at:  2\n",
      "The following nodes move into 2: [1, 3, 5]\n",
      "1st cond satisfied\n",
      "1st cond satisfied\n",
      "2nd cond satisfied\n",
      "The iteration over j is currently at:  5\n",
      "The following nodes move into 5: [1]\n",
      "1st cond satisfied\n",
      "The outer loops current iteration is:  7\n",
      "The following nodes move into 7: [2, 4, 6]\n",
      "The iteration over j is currently at:  2\n",
      "The following nodes move into 2: [1, 3, 5]\n",
      "1st cond satisfied\n",
      "1st cond satisfied\n",
      "2nd cond satisfied\n",
      "The iteration over j is currently at:  4\n",
      "The following nodes move into 4: [2, 3]\n",
      "1st cond satisfied\n",
      "1st cond satisfied\n",
      "The iteration over j is currently at:  6\n",
      "The following nodes move into 6: [2, 5]\n",
      "1st cond satisfied\n",
      "1st cond satisfied\n"
     ]
    }
   ],
   "source": [
    "earliest_feasible_arrival_times = dict()\n",
    "sink = min(g.nodes)\n",
    "terminal = max(g.nodes)\n",
    "\n",
    "for k in range(sink, terminal+1):\n",
    "    if k == 1:\n",
    "        arcs_from_sink = [jk[1] for jk in g.edges if jk[0] == 1]\n",
    "        for l in arcs_from_sink:\n",
    "            earliest_feasible_arrival_times[k, l] = 0\n",
    "    else:\n",
    "        print(\"The outer loops current iteration is: \", k)\n",
    "        arcs_to_k = [jk[0] for jk in g.edges if jk[1] == k]\n",
    "        print(\"The following nodes move into {}: {}\".format(k, arcs_to_k))\n",
    "        for j in arcs_to_k:\n",
    "            print(\"The iteration over j is currently at: \", j)\n",
    "            if j == 1:\n",
    "                continue\n",
    "            pot_earliest_feasible_arrival_times = []\n",
    "            arcs_to_j = [ij[0] for ij in g.edges if ij[1] == j]\n",
    "            print(\"The following nodes move into {}: {}\".format(j, arcs_to_j))\n",
    "            for i in arcs_to_j:\n",
    "                f_ij = earliest_feasible_arrival_times[i,j]\n",
    "                p_i = check_for_feasibility(i, j, f_ij)\n",
    "                t_ij = g.distance[i,j]\n",
    "                if p_i is not False:\n",
    "                    pot_earliest_feasible_arrival_times.append(f_ij + p_i + t_ij)\n",
    "                else:\n",
    "                    pot_earliest_feasible_arrival_times.append(float('inf'))\n",
    "            earliest_feasible_arrival_times[j,k] = min(pot_earliest_feasible_arrival_times)"
   ]
  },
  {
   "cell_type": "code",
   "execution_count": null,
   "metadata": {
    "collapsed": true
   },
   "outputs": [],
   "source": [
    "def check_for_feasibility(i, j, earliest_feasible_at):\n",
    "    print(\"Check feasibility for usage of arc ({}) for earliest feasible time {}\".format((i,j), earliest_feasible_at))\n",
    "    \n",
    "    # specify time window for parking\n",
    "    alpha_i = g.f_park_t[i][0]\n",
    "    beta_i = g.f_park_t[i][1]\n",
    "    \n",
    "    # specify time window for traveling the arc\n",
    "    gamma_ij = g.f_dep_t[(i,j)][0]\n",
    "    delta_ij = g.f_dep_t[(i,j)][1]\n",
    "    \n",
    "    # check first equation:\n",
    "    if alpha_i <= gamma_ij:\n",
    "        p_i = kackscheiss(alpha_i, beta_i, earliest_feasible_at, gamma_ij, delta_ij)\n",
    "        if p_i is not False:\n",
    "            return p_i\n",
    "        else:\n",
    "            pass\n",
    "    # check second equation\n",
    "    if (beta_i - earliest_feasible_at <= 0) and (gamma_ij <= earliest_feasible_at <= delta_ij):\n",
    "        print(\"2nd cond satisfied\")\n",
    "        p_i = 0\n",
    "        return p_i\n",
    "    # check third equation\n",
    "    elif (earliest_feasible_at < gamma_ij < alpha_i) or (earliest_feasible_at < alpha_i < gamma_ij < beta_i\n",
    "                                                        ) or earliest_feasible_at < alpha_i < beta_i < gamma_ij:\n",
    "        print(\"3rd cond satisfied\")\n",
    "        return False\n",
    "    \n",
    "    # check fourth equation\n",
    "    elif gamma_ij < earliest_feasible_at < alpha_i <= delta_ij:\n",
    "        print(\"4th cond satisfied\")\n",
    "        p_i = 0\n",
    "        return p_i\n",
    "    \n",
    "    # check fifth equation\n",
    "    elif delta_ij < earliest_feasible_at:\n",
    "        print(\"5th cond satisfied\")\n",
    "        return False\n",
    "    \n",
    "    else:\n",
    "        print(Warning(\"Some cases are not considered in feasibility check\"))\n",
    "        return 123"
   ]
  }
 ],
 "metadata": {
  "kernelspec": {
   "display_name": "Python 3",
   "language": "python",
   "name": "python3"
  },
  "language_info": {
   "codemirror_mode": {
    "name": "ipython",
    "version": 3
   },
   "file_extension": ".py",
   "mimetype": "text/x-python",
   "name": "python",
   "nbconvert_exporter": "python",
   "pygments_lexer": "ipython3",
   "version": "3.6.2"
  }
 },
 "nbformat": 4,
 "nbformat_minor": 2
}
